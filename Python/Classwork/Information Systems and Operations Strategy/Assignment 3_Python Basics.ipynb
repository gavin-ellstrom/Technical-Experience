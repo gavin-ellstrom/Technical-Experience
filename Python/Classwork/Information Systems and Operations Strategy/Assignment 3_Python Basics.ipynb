{
 "cells": [
  {
   "cell_type": "markdown",
   "metadata": {},
   "source": [
    "# Assignment 3_Python Basics\n",
    "## Due: Mar. 19th 11:59 PM"
   ]
  },
  {
   "cell_type": "code",
   "execution_count": null,
   "metadata": {},
   "outputs": [],
   "source": [
    "# Group members:Gavin Ellstrom, Grant Mondejar, Anthony Simeone"
   ]
  },
  {
   "cell_type": "markdown",
   "metadata": {},
   "source": [
    "### 1.\tCreate the following list and then print the first and last colors from the list. <br>\n",
    "> ['Red', 'Green', 'White', 'Black']"
   ]
  },
  {
   "cell_type": "code",
   "execution_count": 33,
   "metadata": {},
   "outputs": [
    {
     "name": "stdout",
     "output_type": "stream",
     "text": [
      "Red\n",
      "Black\n"
     ]
    }
   ],
   "source": [
    "colors = ['Red', 'Green', 'White', 'Black']\n",
    "print(colors[0])\n",
    "print(colors[-1])\n"
   ]
  },
  {
   "cell_type": "markdown",
   "metadata": {},
   "source": [
    "### 2. Replace \"White\" with “Blue” in the list given above."
   ]
  },
  {
   "cell_type": "code",
   "execution_count": 34,
   "metadata": {},
   "outputs": [
    {
     "name": "stdout",
     "output_type": "stream",
     "text": [
      "Blue\n"
     ]
    }
   ],
   "source": [
    "colors[2] = 'Blue'\n",
    "print(colors[2])\n"
   ]
  },
  {
   "cell_type": "markdown",
   "metadata": {},
   "source": [
    "### 3. Create a list with the names of countries you want to visit the most, one from each continent (i.e, Africa, Europe, Asia, America, and Oceania). What data type is best used for the names?"
   ]
  },
  {
   "cell_type": "code",
   "execution_count": 36,
   "metadata": {},
   "outputs": [
    {
     "name": "stdout",
     "output_type": "stream",
     "text": [
      "['Canada', 'Germany', 'Egypt', 'Brazil', 'China', 'Australia', 'Antartica']\n"
     ]
    }
   ],
   "source": [
    "# Your code:\n",
    "countries = ['Canada', 'Germany', 'Egypt', 'Brazil', 'China', 'Australia', 'Antartica']\n",
    "print(countries)\n",
    "#The data best used is a String"
   ]
  },
  {
   "cell_type": "markdown",
   "metadata": {},
   "source": [
    "### 4. Create a dictionary, with the names of the above-mentioned countries as values and the continents they belong to as keys; print out its content. "
   ]
  },
  {
   "cell_type": "code",
   "execution_count": 37,
   "metadata": {},
   "outputs": [
    {
     "name": "stdout",
     "output_type": "stream",
     "text": [
      "{'North America': 'Canada', 'Europe': 'Germany', 'Africa': 'Egypt', 'South America': 'Brazil', 'Asia': 'China', 'Australia': 'Australia', 'Antartica': 'Antartica'}\n"
     ]
    }
   ],
   "source": [
    "# Your code:\n",
    "continents = {\n",
    "    'North America': countries[0],\n",
    "    'Europe': countries[1],\n",
    "    'Africa': countries[2],\n",
    "    'South America': countries[3],\n",
    "    'Asia': countries[4],\n",
    "    'Australia': countries[5],\n",
    "    'Antartica': countries[6]\n",
    "}\n",
    "print(continents)"
   ]
  },
  {
   "cell_type": "markdown",
   "metadata": {},
   "source": [
    "### 5. Create the following fruits list and then change the value from \"apple\" to \"kiwi\" in the list. <br>\n",
    "> fruits = [\"apple\", \"banana\", \"cherry\"]"
   ]
  },
  {
   "cell_type": "code",
   "execution_count": 38,
   "metadata": {},
   "outputs": [],
   "source": [
    "fruits = [\"apple\", 'banana', 'cherry']\n",
    "fruits[0] = 'kiwi'\n"
   ]
  },
  {
   "cell_type": "markdown",
   "metadata": {},
   "source": [
    "### 6. Add \"lemon\" as the second item in the fruits list.<br>\n",
    "Expected output: ['kiwi', 'lemon', 'banana', 'cherry']"
   ]
  },
  {
   "cell_type": "code",
   "execution_count": 39,
   "metadata": {},
   "outputs": [
    {
     "name": "stdout",
     "output_type": "stream",
     "text": [
      "['kiwi', 'lemon', 'banana', 'cherry']\n"
     ]
    }
   ],
   "source": [
    "fruits.insert(1, 'lemon')\n",
    "print(fruits)"
   ]
  },
  {
   "cell_type": "markdown",
   "metadata": {},
   "source": [
    "### 7. Remove \"cherry\" from the fruits list."
   ]
  },
  {
   "cell_type": "code",
   "execution_count": 40,
   "metadata": {},
   "outputs": [
    {
     "name": "stdout",
     "output_type": "stream",
     "text": [
      "['kiwi', 'lemon', 'banana']\n"
     ]
    }
   ],
   "source": [
    "# Your code:\n",
    "fruits.remove('cherry')\n",
    "print(fruits)"
   ]
  },
  {
   "cell_type": "markdown",
   "metadata": {},
   "source": [
    "### 8. For the following sequence of numbers, write a program using a while loop that prints out $x_{n}$ for n = 0, 1, ..., 20.  <br>\n",
    "### $x_{n}$ = $n^{2}$ + 1"
   ]
  },
  {
   "cell_type": "code",
   "execution_count": 41,
   "metadata": {},
   "outputs": [
    {
     "name": "stdout",
     "output_type": "stream",
     "text": [
      "1\n",
      "2\n",
      "5\n",
      "10\n",
      "17\n",
      "26\n",
      "37\n",
      "50\n",
      "65\n",
      "82\n",
      "101\n",
      "122\n",
      "145\n",
      "170\n",
      "197\n",
      "226\n",
      "257\n",
      "290\n",
      "325\n",
      "362\n",
      "401\n"
     ]
    }
   ],
   "source": [
    "i = 0\n",
    "while i < 21:\n",
    "    x = (i * i) + 1\n",
    "    print(x)\n",
    "    i += 1"
   ]
  }
 ],
 "metadata": {
  "kernelspec": {
   "display_name": "Python 3 (ipykernel)",
   "language": "python",
   "name": "python3"
  },
  "language_info": {
   "codemirror_mode": {
    "name": "ipython",
    "version": 3
   },
   "file_extension": ".py",
   "mimetype": "text/x-python",
   "name": "python",
   "nbconvert_exporter": "python",
   "pygments_lexer": "ipython3",
   "version": "3.9.7"
  }
 },
 "nbformat": 4,
 "nbformat_minor": 4
}
